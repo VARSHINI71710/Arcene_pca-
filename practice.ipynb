{
 "cells": [
  {
   "cell_type": "code",
   "execution_count": null,
   "id": "e952f02f",
   "metadata": {},
   "outputs": [
    {
     "name": "stdout",
     "output_type": "stream",
     "text": [
      "Number of components selected by PCA: 1\n",
      "Explained variance ratio: [0.09102601]\n",
      "Cumulative explained variance: [0.09102601]\n",
      "Silhouette Score: 0.5310479464440097\n"
     ]
    }
   ],
   "source": [
    "import pandas as pd\n",
    "from sklearn.preprocessing import StandardScaler\n",
    "from sklearn.decomposition import PCA\n",
    "from sklearn.cluster import KMeans\n",
    "from sklearn.metrics import silhouette_score\n",
    "import matplotlib.pyplot as plt\n",
    "\n",
    "df = pd.read_csv(\"C:/Users/varsh/Downloads/wine-clustering-extended.csv\")  # <-- change dataset here\n",
    "\n",
    "features = ['Alcohol', 'Malic_Acid', 'Ash', 'Ash_Alcanity', 'Magnesium',\n",
    "            'Total_Phenols', 'Flavanoids', 'Nonflavanoid_Phenols',\n",
    "            'Proanthocyanins', 'Color_Intensity', 'Hue', 'OD280', 'Proline']\n",
    "\n",
    "X = df[features]\n",
    "\n",
    "\n",
    "scaler = StandardScaler()\n",
    "X_scaled = scaler.fit_transform(X)\n",
    "\n",
    "\n",
    "pca = PCA(n_components='mle', svd_solver='full')  \n",
    "X_pca = pca.fit_transform(X_scaled)\n",
    "\n",
    "print(\"Number of components selected by PCA:\", pca.n_components_)\n",
    "print(\"Explained variance ratio:\", pca.explained_variance_ratio_)\n",
    "print(\"Cumulative explained variance:\", pca.explained_variance_ratio_.cumsum())\n",
    "\n",
    "\n",
    "kmeans = KMeans(n_clusters=4, random_state=42, n_init=20)\n",
    "labels = kmeans.fit_predict(X_pca)\n",
    "\n",
    "\n",
    "score = silhouette_score(X_pca, labels)\n",
    "print(\"Silhouette Score:\", score)\n",
    "\n",
    "\n",
    "if X_pca.shape[1] >= 2:\n",
    "    plt.scatter(X_pca[:, 0], X_pca[:, 1], c=labels, cmap=\"viridis\")\n",
    "    plt.xlabel(\"PC1\")\n",
    "    plt.ylabel(\"PC2\")\n",
    "    plt.title(\"KMeans Clustering after PCA\")\n",
    "    plt.show()"
   ]
  },
  {
   "cell_type": "code",
   "execution_count": null,
   "id": "fee55910",
   "metadata": {},
   "outputs": [],
   "source": []
  }
 ],
 "metadata": {
  "kernelspec": {
   "display_name": "env",
   "language": "python",
   "name": "python3"
  },
  "language_info": {
   "codemirror_mode": {
    "name": "ipython",
    "version": 3
   },
   "file_extension": ".py",
   "mimetype": "text/x-python",
   "name": "python",
   "nbconvert_exporter": "python",
   "pygments_lexer": "ipython3",
   "version": "3.12.5"
  }
 },
 "nbformat": 4,
 "nbformat_minor": 5
}
